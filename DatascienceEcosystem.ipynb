{
 "cells": [
  {
   "cell_type": "markdown",
   "id": "16fc15b6-f131-446e-955f-ce9fad450060",
   "metadata": {},
   "source": [
    "# Data Science Tools and Ecosystem"
   ]
  },
  {
   "cell_type": "markdown",
   "id": "0faa2015-3c3a-45de-aa02-e033615236b6",
   "metadata": {},
   "source": [
    "In this notebook, Data science tools and exosystem are summarized"
   ]
  },
  {
   "cell_type": "markdown",
   "id": "4766eb2b-2544-4c26-a2b3-e14394291507",
   "metadata": {},
   "source": [
    "### Some of the popular languages that data scientists use are\n",
    "1. R studio\n",
    "2. SQL\n",
    "3. Julia\n",
    "4. Java\n",
    "5. Python"
   ]
  },
  {
   "cell_type": "markdown",
   "id": "ea732c51-b37d-43c4-9f8c-02bd1fda8690",
   "metadata": {},
   "source": [
    "### Some of the commonly used libraries used by Data scientists include:\n",
    "1. Pandas\n",
    "2. Matplotlib\n",
    "3. Numpy\n",
    "4. Seaborn\n",
    "5. Tensorflow"
   ]
  },
  {
   "cell_type": "markdown",
   "id": "3080677f-cefc-46a5-8239-e178e52953bf",
   "metadata": {},
   "source": [
    "|Data science tools|\n",
    "|:------------------:|\n",
    "|Jupyter Notebooks|\n",
    "|Rstudio|\n",
    "|Visual Studio Code|"
   ]
  },
  {
   "cell_type": "code",
   "execution_count": 21,
   "id": "280be8c5-a1b3-4ce5-a8cd-39101a8a6957",
   "metadata": {},
   "outputs": [
    {
     "name": "stdout",
     "output_type": "stream",
     "text": [
      "8\n",
      "Multiplication 12\n",
      "Z equals -4\n"
     ]
    }
   ],
   "source": [
    "A= 2\n",
    "B= 6\n",
    "Addition = A+B\n",
    "Multiplication = A*B\n",
    "Z= A-B\n",
    "print(Addition)#this way the result will be given but its better to have the legend\n",
    "print(\"Multiplication\",Multiplication)#with legend\n",
    "print(\"Z equals\",Z)"
   ]
  },
  {
   "cell_type": "code",
   "execution_count": 76,
   "id": "79f29f83-5ff5-42f7-8698-9f612baa9763",
   "metadata": {},
   "outputs": [],
   "source": [
    "def mins_to_hours(mins):\n",
    "    hours= mins/60\n",
    "    return hours"
   ]
  },
  {
   "cell_type": "code",
   "execution_count": 78,
   "id": "3717f45d-aacc-460f-a0c9-e2f472301162",
   "metadata": {},
   "outputs": [
    {
     "name": "stdout",
     "output_type": "stream",
     "text": [
      "200 minutes equals 3.3333333333333335 hours\n"
     ]
    }
   ],
   "source": [
    "mins = 200\n",
    "converted_hours= mins_to_hours(mins)\n",
    "print(f\"{mins} minutes equals {converted_hours} hours\")"
   ]
  },
  {
   "cell_type": "markdown",
   "id": "f9d72502-ebe0-48db-b114-2e12ee3db99a",
   "metadata": {},
   "source": [
    "## Objectives:\n",
    "1. Using markdown and code cells\n",
    "2. Review of libraries used in data science\n",
    "3. Review of popular languages in data science"
   ]
  },
  {
   "cell_type": "markdown",
   "id": "01c29c75-0f0b-45cc-906a-c28d49a0f77c",
   "metadata": {},
   "source": [
    "## Author\n",
    "Alberto Marino"
   ]
  }
 ],
 "metadata": {
  "kernelspec": {
   "display_name": "Python 3 (ipykernel)",
   "language": "python",
   "name": "python3"
  },
  "language_info": {
   "codemirror_mode": {
    "name": "ipython",
    "version": 3
   },
   "file_extension": ".py",
   "mimetype": "text/x-python",
   "name": "python",
   "nbconvert_exporter": "python",
   "pygments_lexer": "ipython3",
   "version": "3.12.4"
  }
 },
 "nbformat": 4,
 "nbformat_minor": 5
}
